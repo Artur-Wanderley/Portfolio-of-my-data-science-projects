{
  "nbformat": 4,
  "nbformat_minor": 0,
  "metadata": {
    "colab": {
      "name": "Introduçã_análise_dados.ipynb",
      "provenance": [],
      "collapsed_sections": [],
      "include_colab_link": true
    },
    "kernelspec": {
      "name": "python3",
      "display_name": "Python 3"
    }
  },
  "cells": [
    {
      "cell_type": "markdown",
      "metadata": {
        "id": "view-in-github",
        "colab_type": "text"
      },
      "source": [
        "<a href=\"https://colab.research.google.com/github/Artur-Wanderley/Portfolio-of-my-data-science-projects/blob/master/Introdu%C3%A7%C3%A3_an%C3%A1lise_dados.ipynb\" target=\"_parent\"><img src=\"https://colab.research.google.com/assets/colab-badge.svg\" alt=\"Open In Colab\"/></a>"
      ]
    },
    {
      "cell_type": "markdown",
      "metadata": {
        "id": "4isRVNo3s_rH",
        "colab_type": "text"
      },
      "source": [
        "# ESPECIALIZAÇÃO EM ANÁLISE E ENGENHARIA DE DADOS - Cesar School\n",
        "## Aluno: Artur Maia Wanderley\n",
        "# Disciplina: Introdução à Ciência dos dados\n",
        "# Projeto: Explorando os dados de acidentes de trânsito no município de Recife em 2018\n",
        "\n",
        "## Introdução\n",
        "O objetivo deste projeto é explorar os dados referentes aos acidentes de trânsito com e sem vítimas no município de Recife no ano de 2018. \n",
        "\n",
        "Este projeto está dividido em três partes:\n",
        "\n",
        "- Obtenção dos dados\n",
        "- Pré-processamento dos dados\n",
        "  - Definição de tipos\n",
        "  - Tratamento de dados ausentes\n",
        "  - Normalização e discretização\n",
        "  - Limpeza de dados (univariado e bivariado)\n",
        "- Estatística descritiva e visualização dos dados"
      ]
    },
    {
      "cell_type": "code",
      "metadata": {
        "id": "MYvTa2no1HbI",
        "colab_type": "code",
        "colab": {}
      },
      "source": [
        "# Importando as bibliotecas que serão utilizadas nesse projeto\n",
        "import pandas as pd\n",
        "import numpy as np"
      ],
      "execution_count": 0,
      "outputs": []
    },
    {
      "cell_type": "markdown",
      "metadata": {
        "id": "DS3bLyBnx3Hn",
        "colab_type": "text"
      },
      "source": [
        "# Obtenção dos dados\n",
        "Os dados utilizados neste projeto foram obtidos no [Portal de Dados Abertos da Cidade do Recife](http://dados.recife.pe.gov.br/) e podem ser acessados [aqui](http://dados.recife.pe.gov.br/dataset/acidentes-de-transito-com-e-sem-vitimas/resource/2485590a-3b35-4ad0-b955-8dfc36b61021)."
      ]
    },
    {
      "cell_type": "code",
      "metadata": {
        "id": "A3zYuB7wy_8r",
        "colab_type": "code",
        "outputId": "e78f2848-3991-4699-8e2a-86901a8f7412",
        "colab": {
          "base_uri": "https://localhost:8080/",
          "height": 547
        }
      },
      "source": [
        "# Importando os dados\n",
        "acidentes_rec=pd.read_csv(\"https://raw.githubusercontent.com/Artur-Wanderley/introducao-analise-de-dados/master/acidentes2018.csv\",sep=\";\")\n",
        "acidentes_rec.head()"
      ],
      "execution_count": 5,
      "outputs": [
        {
          "output_type": "execute_result",
          "data": {
            "text/html": [
              "<div>\n",
              "<style scoped>\n",
              "    .dataframe tbody tr th:only-of-type {\n",
              "        vertical-align: middle;\n",
              "    }\n",
              "\n",
              "    .dataframe tbody tr th {\n",
              "        vertical-align: top;\n",
              "    }\n",
              "\n",
              "    .dataframe thead th {\n",
              "        text-align: right;\n",
              "    }\n",
              "</style>\n",
              "<table border=\"1\" class=\"dataframe\">\n",
              "  <thead>\n",
              "    <tr style=\"text-align: right;\">\n",
              "      <th></th>\n",
              "      <th>tipo</th>\n",
              "      <th>situacao</th>\n",
              "      <th>data</th>\n",
              "      <th>hora</th>\n",
              "      <th>bairro</th>\n",
              "      <th>endereco</th>\n",
              "      <th>numero</th>\n",
              "      <th>complemento</th>\n",
              "      <th>natureza</th>\n",
              "      <th>descricao</th>\n",
              "      <th>auto</th>\n",
              "      <th>moto</th>\n",
              "      <th>ciclom</th>\n",
              "      <th>ciclista</th>\n",
              "      <th>pedestre</th>\n",
              "      <th>onibus</th>\n",
              "      <th>caminhao</th>\n",
              "      <th>viatura</th>\n",
              "      <th>outros</th>\n",
              "      <th>vitimas</th>\n",
              "      <th>vitimasfatais</th>\n",
              "    </tr>\n",
              "  </thead>\n",
              "  <tbody>\n",
              "    <tr>\n",
              "      <th>0</th>\n",
              "      <td>ATROPELAMENTO</td>\n",
              "      <td>FINALIZADA</td>\n",
              "      <td>2018-01-01</td>\n",
              "      <td>0:01:00</td>\n",
              "      <td>SÃO JOSÉ</td>\n",
              "      <td>AV ENGENHEIRO JOSE ESTELITA</td>\n",
              "      <td>NaN</td>\n",
              "      <td>EM FRENTE AO CAIS JOSE ESTELITA</td>\n",
              "      <td>ATROPELAMENTO</td>\n",
              "      <td>AUTO E PEDESTRE C/V</td>\n",
              "      <td>1</td>\n",
              "      <td>NaN</td>\n",
              "      <td>NaN</td>\n",
              "      <td>NaN</td>\n",
              "      <td>1</td>\n",
              "      <td>NaN</td>\n",
              "      <td>NaN</td>\n",
              "      <td>NaN</td>\n",
              "      <td>NaN</td>\n",
              "      <td>1</td>\n",
              "      <td>NaN</td>\n",
              "    </tr>\n",
              "    <tr>\n",
              "      <th>1</th>\n",
              "      <td>COLISÃO</td>\n",
              "      <td>CANCELADA</td>\n",
              "      <td>2018-01-01</td>\n",
              "      <td>2:45:00</td>\n",
              "      <td>CORDEIRO</td>\n",
              "      <td>AV CAXANGA</td>\n",
              "      <td>NaN</td>\n",
              "      <td>PROX DO GALETOS, EM FRENTE AO PARQUE DE EXPOSI...</td>\n",
              "      <td>COLISÃO</td>\n",
              "      <td>COLISÃO ENTRE AUTO E MO S/V</td>\n",
              "      <td>1</td>\n",
              "      <td>1.0</td>\n",
              "      <td>NaN</td>\n",
              "      <td>NaN</td>\n",
              "      <td>NaN</td>\n",
              "      <td>NaN</td>\n",
              "      <td>NaN</td>\n",
              "      <td>NaN</td>\n",
              "      <td>NaN</td>\n",
              "      <td>0</td>\n",
              "      <td>NaN</td>\n",
              "    </tr>\n",
              "    <tr>\n",
              "      <th>2</th>\n",
              "      <td>COLISÃO</td>\n",
              "      <td>CANCELADA</td>\n",
              "      <td>2018-01-01</td>\n",
              "      <td>3:33:00</td>\n",
              "      <td>BOA VIAGEM</td>\n",
              "      <td>AV CONSELHEIRO AGUIAR</td>\n",
              "      <td>NaN</td>\n",
              "      <td>PROX DO BANCO DO BRASIL, PROX DO BANCO ITAÚ</td>\n",
              "      <td>COLISÃO</td>\n",
              "      <td>COLISÃO ENTRE UM AUTO(TAXI) E VIATURA DA AERON...</td>\n",
              "      <td>1</td>\n",
              "      <td>NaN</td>\n",
              "      <td>NaN</td>\n",
              "      <td>NaN</td>\n",
              "      <td>NaN</td>\n",
              "      <td>NaN</td>\n",
              "      <td>NaN</td>\n",
              "      <td>1</td>\n",
              "      <td>NaN</td>\n",
              "      <td>0</td>\n",
              "      <td>NaN</td>\n",
              "    </tr>\n",
              "    <tr>\n",
              "      <th>3</th>\n",
              "      <td>COLISÃO</td>\n",
              "      <td>FINALIZADA</td>\n",
              "      <td>2018-01-01</td>\n",
              "      <td>7:13:00</td>\n",
              "      <td>BAIRRO DO RECIFE</td>\n",
              "      <td>AV ALFREDO LISBOA</td>\n",
              "      <td>NaN</td>\n",
              "      <td>PROX  AO POSTO  DE GASOLINA  BR   AO LADO  DO ...</td>\n",
              "      <td>COLISÃO</td>\n",
              "      <td>COLISÃO  SEM  VITIMAS</td>\n",
              "      <td>2</td>\n",
              "      <td>NaN</td>\n",
              "      <td>NaN</td>\n",
              "      <td>NaN</td>\n",
              "      <td>NaN</td>\n",
              "      <td>NaN</td>\n",
              "      <td>NaN</td>\n",
              "      <td>NaN</td>\n",
              "      <td>NaN</td>\n",
              "      <td>0</td>\n",
              "      <td>NaN</td>\n",
              "    </tr>\n",
              "    <tr>\n",
              "      <th>4</th>\n",
              "      <td>COLISÃO</td>\n",
              "      <td>FINALIZADA</td>\n",
              "      <td>2018-01-01</td>\n",
              "      <td>7:50:00</td>\n",
              "      <td>CASA AMARELA</td>\n",
              "      <td>RUA PADRE LEMOS</td>\n",
              "      <td>767</td>\n",
              "      <td>EM FRENTE AO POSTO PETROBRAS</td>\n",
              "      <td>COLISÃO</td>\n",
              "      <td>TAXI E AUTO</td>\n",
              "      <td>2</td>\n",
              "      <td>NaN</td>\n",
              "      <td>NaN</td>\n",
              "      <td>NaN</td>\n",
              "      <td>NaN</td>\n",
              "      <td>NaN</td>\n",
              "      <td>NaN</td>\n",
              "      <td>NaN</td>\n",
              "      <td>NaN</td>\n",
              "      <td>0</td>\n",
              "      <td>NaN</td>\n",
              "    </tr>\n",
              "  </tbody>\n",
              "</table>\n",
              "</div>"
            ],
            "text/plain": [
              "            tipo    situacao        data  ... outros vitimas vitimasfatais\n",
              "0  ATROPELAMENTO  FINALIZADA  2018-01-01  ...    NaN       1           NaN\n",
              "1        COLISÃO   CANCELADA  2018-01-01  ...    NaN       0           NaN\n",
              "2        COLISÃO   CANCELADA  2018-01-01  ...    NaN       0           NaN\n",
              "3        COLISÃO  FINALIZADA  2018-01-01  ...    NaN       0           NaN\n",
              "4        COLISÃO  FINALIZADA  2018-01-01  ...    NaN       0           NaN\n",
              "\n",
              "[5 rows x 21 columns]"
            ]
          },
          "metadata": {
            "tags": []
          },
          "execution_count": 5
        }
      ]
    },
    {
      "cell_type": "markdown",
      "metadata": {
        "id": "p_abIE121EAy",
        "colab_type": "text"
      },
      "source": [
        "# Definição dos tipos de dados"
      ]
    },
    {
      "cell_type": "code",
      "metadata": {
        "id": "8O1Xba3Z3A6d",
        "colab_type": "code",
        "colab": {
          "base_uri": "https://localhost:8080/",
          "height": 391
        },
        "outputId": "f2673db4-85dd-480f-c3e3-8647a4ded953"
      },
      "source": [
        "acidentes_rec.dtypes"
      ],
      "execution_count": 7,
      "outputs": [
        {
          "output_type": "execute_result",
          "data": {
            "text/plain": [
              "tipo              object\n",
              "situacao          object\n",
              "data              object\n",
              "hora              object\n",
              "bairro            object\n",
              "endereco          object\n",
              "numero            object\n",
              "complemento       object\n",
              "natureza          object\n",
              "descricao         object\n",
              "auto              object\n",
              "moto             float64\n",
              "ciclom           float64\n",
              "ciclista         float64\n",
              "pedestre          object\n",
              "onibus           float64\n",
              "caminhao         float64\n",
              "viatura           object\n",
              "outros            object\n",
              "vitimas           object\n",
              "vitimasfatais    float64\n",
              "dtype: object"
            ]
          },
          "metadata": {
            "tags": []
          },
          "execution_count": 7
        }
      ]
    },
    {
      "cell_type": "markdown",
      "metadata": {
        "id": "cmjgkv-b2UBq",
        "colab_type": "text"
      },
      "source": [
        "Existem dois tipos de dados em `acidentes_rec`, `object`, `float64`. \n",
        "\n",
        "Como vemos acima, as colunas `tipo` e `situacao` podem ser transformadas em variáveis categóricas. Vamos olhar quais quais valores essas colunas trazem.\n",
        "\n",
        "Já as colunas `data` e `hora` devem ser convertidas em tipo `datetime`.\n",
        "\n",
        "As colunas `bairro`, `endereco`, `numero`, `complemento`, `natureza` e `descricao` podem ser mantidos como tipo `object` já que elas são strings que contêm informações acerca do local e das circunstâncias em que as colisões ocorreram. \n",
        "\n",
        "As demais colunas informam o número de veículos de diferentes tipos, bem como de pedestres e vítimas envolvidos nas colisões. Vamos transformar os valores de todas essas colunas em números inteiros (`int64`)."
      ]
    },
    {
      "cell_type": "markdown",
      "metadata": {
        "id": "OFesNwzsC0k1",
        "colab_type": "text"
      },
      "source": [
        "## Convertendo as colunas `tipo` e `situacao` em variáveis categóricas"
      ]
    },
    {
      "cell_type": "code",
      "metadata": {
        "id": "qG2_fDg11x0m",
        "colab_type": "code",
        "colab": {
          "base_uri": "https://localhost:8080/",
          "height": 357
        },
        "outputId": "18629e1d-b67d-487a-b3e2-55fdac93c394"
      },
      "source": [
        "# Observando os valores únicos na coluna tipo\n",
        "unicos_tipo=acidentes_rec.tipo.value_counts()\n",
        "print(unicos_tipo)\n",
        "print(\"\\nNúmero de valores únicos: \",unicos_tipo.shape[0])"
      ],
      "execution_count": 16,
      "outputs": [
        {
          "output_type": "stream",
          "text": [
            "COLISÃO                      8604\n",
            "ABALROAMENTO LONGITUDINAL     704\n",
            "COLISÃO TRASEIRA              524\n",
            "ABALROAMENTO TRANSVERSAL      381\n",
            "ATROPELAMENTO                 213\n",
            "CHOQUE                        196\n",
            "ENGAVETAMENTO                 172\n",
            "COLISÃO COM CICLISTA          163\n",
            "CHOQUE VEÍCULO PARADO          78\n",
            "ACID. DE PERCURSO              60\n",
            "COLISÃO FRONTAL                49\n",
            "CHOQUE OBJETO FIXO             38\n",
            "CAPOTAMENTO                    22\n",
            "QUEDA DE ÁRVORE                21\n",
            "ATROPELAMENTO ANIMAL            7\n",
            "TOMBAMENTO                      7\n",
            "0                               1\n",
            "Name: tipo, dtype: int64\n",
            "\n",
            "Número de valores únicos:  17\n"
          ],
          "name": "stdout"
        }
      ]
    },
    {
      "cell_type": "markdown",
      "metadata": {
        "id": "kAyiYjaf5eLB",
        "colab_type": "text"
      },
      "source": [
        "Como podemos ver, existem 17 valores únicos na coluna tipo que se referem a categorias distintas de colisão. Note que existe uma categoria cujo valor é `0`. Mais adiante investigaremos se esse valor é um erro que devemos remover do nosso dataset. \n",
        "\n",
        "Por enquanto, vamos transformar a coluna `tipo` em uma variável categórica com 17 categorias distintas de colisão. "
      ]
    },
    {
      "cell_type": "code",
      "metadata": {
        "id": "ZNHHZbMb5F-a",
        "colab_type": "code",
        "colab": {}
      },
      "source": [
        "# Convertendo a coluna tipo em uma variável categóricas\n",
        "acidentes_rec.tipo=acidentes_rec.tipo.astype(\"category\")"
      ],
      "execution_count": 0,
      "outputs": []
    },
    {
      "cell_type": "markdown",
      "metadata": {
        "id": "-pmiM6cY-CRv",
        "colab_type": "text"
      },
      "source": [
        "Agora vamos ver os valores únicos da coluna `situcao`."
      ]
    },
    {
      "cell_type": "code",
      "metadata": {
        "id": "dYcnEvZ_4xy2",
        "colab_type": "code",
        "colab": {
          "base_uri": "https://localhost:8080/",
          "height": 136
        },
        "outputId": "7eaa9fe5-81cf-41a7-ddf3-6571a7c4b90d"
      },
      "source": [
        "unicos_situacao=acidentes_rec.situacao.value_counts()\n",
        "print(unicos_situacao)\n",
        "print(\"\\nNúmero de valores únicos: \",unicos_situacao.shape[0])"
      ],
      "execution_count": 23,
      "outputs": [
        {
          "output_type": "stream",
          "text": [
            "FINALIZADA         9537\n",
            "CANCELADA          1693\n",
            "PENDENTE             46\n",
            "EQUIPE NO LOCAL       5\n",
            "Name: situacao, dtype: int64\n",
            "\n",
            "Número de valores únicos:  4\n"
          ],
          "name": "stdout"
        }
      ]
    },
    {
      "cell_type": "markdown",
      "metadata": {
        "id": "Xw8VCkTa-um1",
        "colab_type": "text"
      },
      "source": [
        "Como podemos ver, a coluna `situacao` possui valores únicos que indicam quatro  status de atendimento das ocorrências pelas autoridades.\n",
        "\n",
        "Vamos transformar a coluna `situacao` em uma variável categórica."
      ]
    },
    {
      "cell_type": "code",
      "metadata": {
        "id": "2w4Q0zoj5BlU",
        "colab_type": "code",
        "colab": {}
      },
      "source": [
        "# Convertendo a coluna situacao em variável categórica\n",
        "acidentes_rec.situacao=acidentes_rec.situacao.astype(\"category\")"
      ],
      "execution_count": 0,
      "outputs": []
    },
    {
      "cell_type": "markdown",
      "metadata": {
        "id": "P2mAJj35DX8g",
        "colab_type": "text"
      },
      "source": [
        "## Convertendo as colunas `data` e `hora` em tipo `datetime`"
      ]
    },
    {
      "cell_type": "code",
      "metadata": {
        "id": "TlV01di5DyJr",
        "colab_type": "code",
        "colab": {}
      },
      "source": [
        "acidentes_rec.data=pd.to_datetime(acidentes_rec.data,format=\"%Y-%m-%d\")"
      ],
      "execution_count": 0,
      "outputs": []
    },
    {
      "cell_type": "code",
      "metadata": {
        "id": "DVREY2WpGkCj",
        "colab_type": "code",
        "colab": {}
      },
      "source": [
        ""
      ],
      "execution_count": 0,
      "outputs": []
    },
    {
      "cell_type": "markdown",
      "metadata": {
        "id": "AFkF2INIAJfI",
        "colab_type": "text"
      },
      "source": [
        ""
      ]
    },
    {
      "cell_type": "markdown",
      "metadata": {
        "id": "EcM6mmLh14K6",
        "colab_type": "text"
      },
      "source": [
        ""
      ]
    },
    {
      "cell_type": "markdown",
      "metadata": {
        "id": "dnvL987V3LsX",
        "colab_type": "text"
      },
      "source": [
        "As colunas `auto`,\t`moto`,\t`ciclom`,\t`ciclista`,\t`pedestre`,\t`onibus`,\t`caminhao`,\t`viatura`,\t`outros` possuem `NaN`, mas isso não significa que sejam missing data. Provavelmente, a maioria dos  `NaN` nessas colunas indicam que o tipo de veículo que intitula a coluna não esteve envolvido no acidente. Por exemplo, na primeira linha do dataset o acidente envolveu apenas um \"auto\" e um pedestre.\n",
        "\n",
        "Dessa maneira, para essas colunas, vamos substituir os `NaN` por `0`. Esse procedimento tem o risco de substituir um missing data real por um valor irreal (`0`), mas se excluir as linhas com `NaN` perderemos um volume muito grande de dados.\n",
        "\n"
      ]
    },
    {
      "cell_type": "code",
      "metadata": {
        "id": "hLpaVdEeARsx",
        "colab_type": "code",
        "colab": {}
      },
      "source": [
        "# Subsituitindo os NaNs da coluna moto até a coluna outros"
      ],
      "execution_count": 0,
      "outputs": []
    },
    {
      "cell_type": "markdown",
      "metadata": {
        "id": "sI6UPmb8A09H",
        "colab_type": "text"
      },
      "source": [
        "## Subsituitindo os NaNs da coluna `moto` até a coluna `outros`"
      ]
    },
    {
      "cell_type": "code",
      "metadata": {
        "id": "Y9LKRwrEBkyH",
        "colab_type": "code",
        "colab": {}
      },
      "source": [
        "acidentes_rec[[\"auto\", \"moto\", \"ciclom\", \"ciclista\", \"pedestre\", \"onibus\", \"caminhao\", \"viatura\", \"outros\"]]=acidentes_rec[[\"auto\", \"moto\", \"ciclom\", \"ciclista\", \"pedestre\", \"onibus\", \"caminhao\", \"viatura\", \"outros\"]].fillna(0)\n"
      ],
      "execution_count": 0,
      "outputs": []
    },
    {
      "cell_type": "code",
      "metadata": {
        "id": "2tyBMRZ6E87i",
        "colab_type": "code",
        "outputId": "0293e42c-167e-4e3e-cb7e-36bbb7a500a9",
        "colab": {
          "base_uri": "https://localhost:8080/",
          "height": 530
        }
      },
      "source": [
        "acidentes_rec.head()"
      ],
      "execution_count": 0,
      "outputs": [
        {
          "output_type": "execute_result",
          "data": {
            "text/html": [
              "<div>\n",
              "<style scoped>\n",
              "    .dataframe tbody tr th:only-of-type {\n",
              "        vertical-align: middle;\n",
              "    }\n",
              "\n",
              "    .dataframe tbody tr th {\n",
              "        vertical-align: top;\n",
              "    }\n",
              "\n",
              "    .dataframe thead th {\n",
              "        text-align: right;\n",
              "    }\n",
              "</style>\n",
              "<table border=\"1\" class=\"dataframe\">\n",
              "  <thead>\n",
              "    <tr style=\"text-align: right;\">\n",
              "      <th></th>\n",
              "      <th>tipo</th>\n",
              "      <th>situacao</th>\n",
              "      <th>data</th>\n",
              "      <th>hora</th>\n",
              "      <th>bairro</th>\n",
              "      <th>endereco</th>\n",
              "      <th>numero</th>\n",
              "      <th>complemento</th>\n",
              "      <th>natureza</th>\n",
              "      <th>descricao</th>\n",
              "      <th>auto</th>\n",
              "      <th>moto</th>\n",
              "      <th>ciclom</th>\n",
              "      <th>ciclista</th>\n",
              "      <th>pedestre</th>\n",
              "      <th>onibus</th>\n",
              "      <th>caminhao</th>\n",
              "      <th>viatura</th>\n",
              "      <th>outros</th>\n",
              "      <th>vitimas</th>\n",
              "      <th>vitimasfatais</th>\n",
              "    </tr>\n",
              "  </thead>\n",
              "  <tbody>\n",
              "    <tr>\n",
              "      <th>0</th>\n",
              "      <td>ATROPELAMENTO</td>\n",
              "      <td>FINALIZADA</td>\n",
              "      <td>2018-01-01</td>\n",
              "      <td>0:01:00</td>\n",
              "      <td>SÃO JOSÉ</td>\n",
              "      <td>AV ENGENHEIRO JOSE ESTELITA</td>\n",
              "      <td>NaN</td>\n",
              "      <td>EM FRENTE AO CAIS JOSE ESTELITA</td>\n",
              "      <td>ATROPELAMENTO</td>\n",
              "      <td>AUTO E PEDESTRE C/V</td>\n",
              "      <td>1</td>\n",
              "      <td>0.0</td>\n",
              "      <td>0.0</td>\n",
              "      <td>0.0</td>\n",
              "      <td>1</td>\n",
              "      <td>0.0</td>\n",
              "      <td>0.0</td>\n",
              "      <td>0</td>\n",
              "      <td>0</td>\n",
              "      <td>1</td>\n",
              "      <td>NaN</td>\n",
              "    </tr>\n",
              "    <tr>\n",
              "      <th>1</th>\n",
              "      <td>COLISÃO</td>\n",
              "      <td>CANCELADA</td>\n",
              "      <td>2018-01-01</td>\n",
              "      <td>2:45:00</td>\n",
              "      <td>CORDEIRO</td>\n",
              "      <td>AV CAXANGA</td>\n",
              "      <td>NaN</td>\n",
              "      <td>PROX DO GALETOS, EM FRENTE AO PARQUE DE EXPOSI...</td>\n",
              "      <td>COLISÃO</td>\n",
              "      <td>COLISÃO ENTRE AUTO E MO S/V</td>\n",
              "      <td>1</td>\n",
              "      <td>1.0</td>\n",
              "      <td>0.0</td>\n",
              "      <td>0.0</td>\n",
              "      <td>0</td>\n",
              "      <td>0.0</td>\n",
              "      <td>0.0</td>\n",
              "      <td>0</td>\n",
              "      <td>0</td>\n",
              "      <td>0</td>\n",
              "      <td>NaN</td>\n",
              "    </tr>\n",
              "    <tr>\n",
              "      <th>2</th>\n",
              "      <td>COLISÃO</td>\n",
              "      <td>CANCELADA</td>\n",
              "      <td>2018-01-01</td>\n",
              "      <td>3:33:00</td>\n",
              "      <td>BOA VIAGEM</td>\n",
              "      <td>AV CONSELHEIRO AGUIAR</td>\n",
              "      <td>NaN</td>\n",
              "      <td>PROX DO BANCO DO BRASIL, PROX DO BANCO ITAÚ</td>\n",
              "      <td>COLISÃO</td>\n",
              "      <td>COLISÃO ENTRE UM AUTO(TAXI) E VIATURA DA AERON...</td>\n",
              "      <td>1</td>\n",
              "      <td>0.0</td>\n",
              "      <td>0.0</td>\n",
              "      <td>0.0</td>\n",
              "      <td>0</td>\n",
              "      <td>0.0</td>\n",
              "      <td>0.0</td>\n",
              "      <td>1</td>\n",
              "      <td>0</td>\n",
              "      <td>0</td>\n",
              "      <td>NaN</td>\n",
              "    </tr>\n",
              "    <tr>\n",
              "      <th>3</th>\n",
              "      <td>COLISÃO</td>\n",
              "      <td>FINALIZADA</td>\n",
              "      <td>2018-01-01</td>\n",
              "      <td>7:13:00</td>\n",
              "      <td>BAIRRO DO RECIFE</td>\n",
              "      <td>AV ALFREDO LISBOA</td>\n",
              "      <td>NaN</td>\n",
              "      <td>PROX  AO POSTO  DE GASOLINA  BR   AO LADO  DO ...</td>\n",
              "      <td>COLISÃO</td>\n",
              "      <td>COLISÃO  SEM  VITIMAS</td>\n",
              "      <td>2</td>\n",
              "      <td>0.0</td>\n",
              "      <td>0.0</td>\n",
              "      <td>0.0</td>\n",
              "      <td>0</td>\n",
              "      <td>0.0</td>\n",
              "      <td>0.0</td>\n",
              "      <td>0</td>\n",
              "      <td>0</td>\n",
              "      <td>0</td>\n",
              "      <td>NaN</td>\n",
              "    </tr>\n",
              "    <tr>\n",
              "      <th>4</th>\n",
              "      <td>COLISÃO</td>\n",
              "      <td>FINALIZADA</td>\n",
              "      <td>2018-01-01</td>\n",
              "      <td>7:50:00</td>\n",
              "      <td>CASA AMARELA</td>\n",
              "      <td>RUA PADRE LEMOS</td>\n",
              "      <td>767</td>\n",
              "      <td>EM FRENTE AO POSTO PETROBRAS</td>\n",
              "      <td>COLISÃO</td>\n",
              "      <td>TAXI E AUTO</td>\n",
              "      <td>2</td>\n",
              "      <td>0.0</td>\n",
              "      <td>0.0</td>\n",
              "      <td>0.0</td>\n",
              "      <td>0</td>\n",
              "      <td>0.0</td>\n",
              "      <td>0.0</td>\n",
              "      <td>0</td>\n",
              "      <td>0</td>\n",
              "      <td>0</td>\n",
              "      <td>NaN</td>\n",
              "    </tr>\n",
              "  </tbody>\n",
              "</table>\n",
              "</div>"
            ],
            "text/plain": [
              "            tipo    situacao        data  ... outros vitimas vitimasfatais\n",
              "0  ATROPELAMENTO  FINALIZADA  2018-01-01  ...      0       1           NaN\n",
              "1        COLISÃO   CANCELADA  2018-01-01  ...      0       0           NaN\n",
              "2        COLISÃO   CANCELADA  2018-01-01  ...      0       0           NaN\n",
              "3        COLISÃO  FINALIZADA  2018-01-01  ...      0       0           NaN\n",
              "4        COLISÃO  FINALIZADA  2018-01-01  ...      0       0           NaN\n",
              "\n",
              "[5 rows x 21 columns]"
            ]
          },
          "metadata": {
            "tags": []
          },
          "execution_count": 22
        }
      ]
    },
    {
      "cell_type": "code",
      "metadata": {
        "id": "t6zPPk-q1T8N",
        "colab_type": "code",
        "outputId": "9f786d8b-c510-4013-a3b5-72c8d6d26100",
        "colab": {
          "base_uri": "https://localhost:8080/",
          "height": 391
        }
      },
      "source": [
        "# Procurando missing data\n",
        "acidentes_rec.isnull().sum()"
      ],
      "execution_count": 0,
      "outputs": [
        {
          "output_type": "execute_result",
          "data": {
            "text/plain": [
              "tipo                42\n",
              "situacao             1\n",
              "data                 0\n",
              "hora                13\n",
              "bairro              26\n",
              "endereco            18\n",
              "numero            6037\n",
              "complemento        437\n",
              "natureza            42\n",
              "descricao          227\n",
              "auto              1021\n",
              "moto              8648\n",
              "ciclom           11228\n",
              "ciclista         11122\n",
              "pedestre         11078\n",
              "onibus            9556\n",
              "caminhao         10069\n",
              "viatura          11120\n",
              "outros           11152\n",
              "vitimas             12\n",
              "vitimasfatais    11255\n",
              "dtype: int64"
            ]
          },
          "metadata": {
            "tags": []
          },
          "execution_count": 5
        }
      ]
    },
    {
      "cell_type": "code",
      "metadata": {
        "id": "FX8KrEMq1oAy",
        "colab_type": "code",
        "outputId": "fd976a23-55a3-4928-e692-2719277fae22",
        "colab": {
          "base_uri": "https://localhost:8080/",
          "height": 34
        }
      },
      "source": [
        "acidentes_rec.vitimasfatais.unique()"
      ],
      "execution_count": 0,
      "outputs": [
        {
          "output_type": "execute_result",
          "data": {
            "text/plain": [
              "array([nan,  1.,  2.])"
            ]
          },
          "metadata": {
            "tags": []
          },
          "execution_count": 7
        }
      ]
    },
    {
      "cell_type": "code",
      "metadata": {
        "id": "tZ6iHpWv2Jwh",
        "colab_type": "code",
        "colab": {}
      },
      "source": [
        ""
      ],
      "execution_count": 0,
      "outputs": []
    }
  ]
}